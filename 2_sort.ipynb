{
  "nbformat": 4,
  "nbformat_minor": 0,
  "metadata": {
    "colab": {
      "provenance": []
    },
    "kernelspec": {
      "name": "python3",
      "display_name": "Python 3"
    },
    "language_info": {
      "name": "python"
    }
  },
  "cells": [
    {
      "cell_type": "code",
      "execution_count": 9,
      "metadata": {
        "id": "O6MQ2MzIEMUX"
      },
      "outputs": [],
      "source": [
        "input_filename = 'unique_size.txt'\n",
        "output_filename = 'unique_size2.txt'\n",
        "\n",
        "# Read the input text file and store items in a list\n",
        "with open(input_filename, 'r') as file:\n",
        "    items = [line.strip() for line in file]\n",
        "\n",
        "# Sort the list of items in descending order of length\n",
        "sorted_items = sorted(items, key=len, reverse=True)\n",
        "\n",
        "# Write the sorted list of items to the output text file\n",
        "with open(output_filename, 'w') as file:\n",
        "    for item in sorted_items:\n",
        "        file.write(item + '\\n')\n"
      ]
    }
  ]
}
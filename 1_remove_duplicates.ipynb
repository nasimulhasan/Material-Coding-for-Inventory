{
  "nbformat": 4,
  "nbformat_minor": 0,
  "metadata": {
    "colab": {
      "provenance": []
    },
    "kernelspec": {
      "name": "python3",
      "display_name": "Python 3"
    },
    "language_info": {
      "name": "python"
    }
  },
  "cells": [
    {
      "cell_type": "markdown",
      "source": [
        "**Remove Duplicates**"
      ],
      "metadata": {
        "id": "AHoiEgFrRGkl"
      }
    },
    {
      "cell_type": "code",
      "source": [
        "# Define the input and output file names\n",
        "input_file = \"size.txt\"\n",
        "output_file = \"unique_\" + input_file\n",
        "\n",
        "with open(input_file, \"r\") as f:\n",
        "    # Read the contents of the file and split into a list of tuples\n",
        "    tuples = [tuple(line.strip().split()) for line in f]\n",
        "\n",
        "# Count the number of duplicate tuples and remove duplicates from the list of tuples\n",
        "num_duplicates = len(tuples) - len(set(tuples))\n",
        "unique_tuples = list(set(tuples))\n",
        "\n",
        "with open(output_file, \"w\") as f:\n",
        "    # Write the unique tuples to the output file\n",
        "    for tup in unique_tuples:\n",
        "        f.write(\"{}\\n\".format(\" \".join(tup)))\n",
        "\n",
        "# Print a message indicating the number of duplicates found and that the operation has finished\n",
        "print(\"{} duplicate tuples found. Unique tuples have been written to {}\".format(num_duplicates, output_file))\n"
      ],
      "metadata": {
        "colab": {
          "base_uri": "https://localhost:8080/"
        },
        "id": "QkGlCdpTQ-lb",
        "outputId": "c265ed69-456e-4c08-dcd5-650f261be788"
      },
      "execution_count": 28,
      "outputs": [
        {
          "output_type": "stream",
          "name": "stdout",
          "text": [
            "1 duplicate tuples found. Unique tuples have been written to unique_size.txt\n"
          ]
        }
      ]
    }
  ]
}
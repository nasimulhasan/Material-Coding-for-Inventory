{
  "nbformat": 4,
  "nbformat_minor": 0,
  "metadata": {
    "colab": {
      "provenance": []
    },
    "kernelspec": {
      "name": "python3",
      "display_name": "Python 3"
    },
    "language_info": {
      "name": "python"
    }
  },
  "cells": [
    {
      "cell_type": "code",
      "execution_count": 3,
      "metadata": {
        "id": "vQT78XxtUfVo"
      },
      "outputs": [],
      "source": [
        "# Define a list of all possible alphanumeric codes\n",
        "codes = [chr(i) + chr(j) + str(k) for i in range(ord('A'), ord('Z')+1) for j in range(ord('A'), ord('Z')+1) for k in range(10)]\n",
        "\n",
        "# Open the input file for reading\n",
        "with open(\"unique_size2.txt\", \"r\") as input_file:\n",
        "    # Read the lines from the file\n",
        "    lines = input_file.readlines()\n",
        "\n",
        "# Assign a code to each item\n",
        "output_lines = []\n",
        "for i, line in enumerate(lines):\n",
        "    # Get the corresponding code from the list\n",
        "    code = codes[i]\n",
        "    # Add the line and code to the output list\n",
        "    output_lines.append(f\"\\\"{line.strip()}\\\": \\\"{code}\\\",\")\n",
        "\n",
        "# Open the output file for writing\n",
        "with open(\"unique_size2output.txt\", \"w\") as output_file:\n",
        "    # Write the output lines to the file\n",
        "    output_file.write(\"\\n\".join(output_lines))\n"
      ]
    }
  ]
}